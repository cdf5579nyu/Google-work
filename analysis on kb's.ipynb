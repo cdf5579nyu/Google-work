{
 "cells": [
  {
   "cell_type": "code",
   "execution_count": 106,
   "id": "358527cb",
   "metadata": {},
   "outputs": [
    {
     "data": {
      "text/html": [
       "<div>\n",
       "<style scoped>\n",
       "    .dataframe tbody tr th:only-of-type {\n",
       "        vertical-align: middle;\n",
       "    }\n",
       "\n",
       "    .dataframe tbody tr th {\n",
       "        vertical-align: top;\n",
       "    }\n",
       "\n",
       "    .dataframe thead th {\n",
       "        text-align: right;\n",
       "    }\n",
       "</style>\n",
       "<table border=\"1\" class=\"dataframe\">\n",
       "  <thead>\n",
       "    <tr style=\"text-align: right;\">\n",
       "      <th></th>\n",
       "      <th>Article number</th>\n",
       "      <th>Article Title</th>\n",
       "      <th>Last Update</th>\n",
       "      <th>Time Updated</th>\n",
       "      <th>Active</th>\n",
       "      <th>Article type</th>\n",
       "      <th>Knowledge Author</th>\n",
       "      <th>University Service</th>\n",
       "      <th>Attachment link</th>\n",
       "      <th>Keywords</th>\n",
       "      <th>Views count</th>\n",
       "    </tr>\n",
       "  </thead>\n",
       "  <tbody>\n",
       "    <tr>\n",
       "      <th>0</th>\n",
       "      <td>KB0019498</td>\n",
       "      <td>NYU Drive (Google): Message for IT Service Des...</td>\n",
       "      <td>2022-03-15</td>\n",
       "      <td>15:05:12</td>\n",
       "      <td>True</td>\n",
       "      <td>HTML</td>\n",
       "      <td>Kenneth Drake-Sargent</td>\n",
       "      <td>NYU Drive (Google)</td>\n",
       "      <td>False</td>\n",
       "      <td>Storage Reduction Quota Google Drive NYU Resea...</td>\n",
       "      <td>12</td>\n",
       "    </tr>\n",
       "    <tr>\n",
       "      <th>1</th>\n",
       "      <td>KB0019353</td>\n",
       "      <td>Access to Google Scholar</td>\n",
       "      <td>2021-11-12</td>\n",
       "      <td>12:21:15</td>\n",
       "      <td>True</td>\n",
       "      <td>HTML</td>\n",
       "      <td>Kenneth Drake-Sargent</td>\n",
       "      <td>NYU Email (Google)</td>\n",
       "      <td>False</td>\n",
       "      <td>Google Scholar access links blocked</td>\n",
       "      <td>297</td>\n",
       "    </tr>\n",
       "    <tr>\n",
       "      <th>2</th>\n",
       "      <td>KB0019341</td>\n",
       "      <td>NYU Groups: Addressing members with a bouncing...</td>\n",
       "      <td>2021-10-21</td>\n",
       "      <td>14:32:27</td>\n",
       "      <td>True</td>\n",
       "      <td>HTML</td>\n",
       "      <td>Anthony M</td>\n",
       "      <td>NYU Groups (Google)</td>\n",
       "      <td>False</td>\n",
       "      <td>NYU Groups Group Bouncing Status Settings</td>\n",
       "      <td>12</td>\n",
       "    </tr>\n",
       "    <tr>\n",
       "      <th>3</th>\n",
       "      <td>KB0019132</td>\n",
       "      <td>NYU Google Apps: What uses your storage space</td>\n",
       "      <td>2021-06-16</td>\n",
       "      <td>17:04:50</td>\n",
       "      <td>True</td>\n",
       "      <td>HTML</td>\n",
       "      <td>Kenneth Drake-Sargent</td>\n",
       "      <td>NYU Google Apps</td>\n",
       "      <td>False</td>\n",
       "      <td>storage quota drive email mail google</td>\n",
       "      <td>88</td>\n",
       "    </tr>\n",
       "    <tr>\n",
       "      <th>4</th>\n",
       "      <td>KB0019131</td>\n",
       "      <td>NYU Google Apps: Tips for Reducing NYU Drive, ...</td>\n",
       "      <td>2021-06-16</td>\n",
       "      <td>16:51:04</td>\n",
       "      <td>True</td>\n",
       "      <td>HTML</td>\n",
       "      <td>Kenneth Drake-Sargent</td>\n",
       "      <td>NYU Google Apps</td>\n",
       "      <td>False</td>\n",
       "      <td>drive google email storage quota</td>\n",
       "      <td>1123</td>\n",
       "    </tr>\n",
       "  </tbody>\n",
       "</table>\n",
       "</div>"
      ],
      "text/plain": [
       "  Article number                                      Article Title  \\\n",
       "0      KB0019498  NYU Drive (Google): Message for IT Service Des...   \n",
       "1      KB0019353                           Access to Google Scholar   \n",
       "2      KB0019341  NYU Groups: Addressing members with a bouncing...   \n",
       "3      KB0019132      NYU Google Apps: What uses your storage space   \n",
       "4      KB0019131  NYU Google Apps: Tips for Reducing NYU Drive, ...   \n",
       "\n",
       "  Last Update Time Updated  Active Article type       Knowledge Author  \\\n",
       "0  2022-03-15     15:05:12    True         HTML  Kenneth Drake-Sargent   \n",
       "1  2021-11-12     12:21:15    True         HTML  Kenneth Drake-Sargent   \n",
       "2  2021-10-21     14:32:27    True         HTML              Anthony M   \n",
       "3  2021-06-16     17:04:50    True         HTML  Kenneth Drake-Sargent   \n",
       "4  2021-06-16     16:51:04    True         HTML  Kenneth Drake-Sargent   \n",
       "\n",
       "    University Service  Attachment link  \\\n",
       "0   NYU Drive (Google)            False   \n",
       "1   NYU Email (Google)            False   \n",
       "2  NYU Groups (Google)            False   \n",
       "3      NYU Google Apps            False   \n",
       "4      NYU Google Apps            False   \n",
       "\n",
       "                                            Keywords  Views count  \n",
       "0  Storage Reduction Quota Google Drive NYU Resea...           12  \n",
       "1                Google Scholar access links blocked          297  \n",
       "2          NYU Groups Group Bouncing Status Settings           12  \n",
       "3              storage quota drive email mail google           88  \n",
       "4                   drive google email storage quota         1123  "
      ]
     },
     "execution_count": 106,
     "metadata": {},
     "output_type": "execute_result"
    }
   ],
   "source": [
    "import pandas as pd\n",
    "import numpy as np\n",
    "df=pd.read_csv('Know.csv')\n",
    "df.head()"
   ]
  },
  {
   "cell_type": "code",
   "execution_count": 40,
   "id": "484c7356",
   "metadata": {},
   "outputs": [
    {
     "name": "stdout",
     "output_type": "stream",
     "text": [
      "<class 'pandas.core.frame.DataFrame'>\n",
      "RangeIndex: 405 entries, 0 to 404\n",
      "Data columns (total 11 columns):\n",
      " #   Column              Non-Null Count  Dtype \n",
      "---  ------              --------------  ----- \n",
      " 0   Article number      405 non-null    object\n",
      " 1   Article Title       403 non-null    object\n",
      " 2   Last Update         405 non-null    object\n",
      " 3   Time Updated        405 non-null    object\n",
      " 4   Active              405 non-null    bool  \n",
      " 5   Article type        405 non-null    object\n",
      " 6   Knowledge Author    405 non-null    object\n",
      " 7   University Service  405 non-null    object\n",
      " 8   Attachment link     405 non-null    bool  \n",
      " 9   Keywords            391 non-null    object\n",
      " 10  Views count         405 non-null    int64 \n",
      "dtypes: bool(2), int64(1), object(8)\n",
      "memory usage: 29.4+ KB\n"
     ]
    }
   ],
   "source": [
    "df.info()"
   ]
  },
  {
   "cell_type": "code",
   "execution_count": 97,
   "id": "40947f51",
   "metadata": {},
   "outputs": [
    {
     "name": "stdout",
     "output_type": "stream",
     "text": [
      "The total number of KBs about Google services is:  405.0\n"
     ]
    }
   ],
   "source": [
    "print('The total number of KBs about Google services is: ', df.size/11)"
   ]
  },
  {
   "cell_type": "code",
   "execution_count": 41,
   "id": "8344b249",
   "metadata": {},
   "outputs": [],
   "source": [
    "df['Last Update'] = pd.to_datetime(df['Last Update'])"
   ]
  },
  {
   "cell_type": "code",
   "execution_count": 42,
   "id": "dafe1696",
   "metadata": {},
   "outputs": [],
   "source": [
    "df.columns = df.columns.str.replace('Last Update', 'TIME')"
   ]
  },
  {
   "cell_type": "code",
   "execution_count": 43,
   "id": "9ae43b78",
   "metadata": {},
   "outputs": [],
   "source": [
    "df['TIME'] = pd.to_datetime(df['TIME'])"
   ]
  },
  {
   "cell_type": "code",
   "execution_count": 45,
   "id": "e480b03a",
   "metadata": {},
   "outputs": [
    {
     "name": "stdout",
     "output_type": "stream",
     "text": [
      "Bins of 30 days: quantity of last updates each month\n",
      "TIME\n",
      "2020-04-20     39\n",
      "2020-05-20      0\n",
      "2020-06-19      0\n",
      "2020-07-19      0\n",
      "2020-08-18      0\n",
      "2020-09-17      1\n",
      "2020-10-17    259\n",
      "2020-11-16     54\n",
      "2020-12-16      3\n",
      "2021-01-15      0\n",
      "2021-02-14      1\n",
      "2021-03-16      0\n",
      "2021-04-15      3\n",
      "2021-05-15      1\n",
      "2021-06-14      3\n",
      "2021-07-14      0\n",
      "2021-08-13      1\n",
      "2021-09-12     14\n",
      "2021-10-12      2\n",
      "2021-11-11      9\n",
      "2021-12-11      0\n",
      "2022-01-10      4\n",
      "2022-02-09      7\n",
      "2022-03-11      4\n",
      "Freq: 30D, dtype: int64\n"
     ]
    }
   ],
   "source": [
    "counts = pd.Series(index=df.TIME, data=np.array(df.count)).resample('30D').count()\n",
    "print('Bins of 30 days: quantity of last updates each month')\n",
    "print(counts[:1000])"
   ]
  },
  {
   "cell_type": "code",
   "execution_count": 38,
   "id": "20ecb300",
   "metadata": {},
   "outputs": [
    {
     "name": "stdout",
     "output_type": "stream",
     "text": [
      "this is the oldest update: 2020-04-20 00:00:00\n"
     ]
    }
   ],
   "source": [
    "print('this is the oldest update:', min(df['TIME']))"
   ]
  },
  {
   "cell_type": "code",
   "execution_count": 48,
   "id": "b100b782",
   "metadata": {},
   "outputs": [],
   "source": [
    "df.columns = df.columns.str.replace('Time Updated', 'TIME2')"
   ]
  },
  {
   "cell_type": "code",
   "execution_count": 50,
   "id": "9482cf56",
   "metadata": {},
   "outputs": [],
   "source": [
    "df['TIME2'] = pd.to_datetime(df['TIME2'])"
   ]
  },
  {
   "cell_type": "code",
   "execution_count": 53,
   "id": "e1309c31",
   "metadata": {},
   "outputs": [
    {
     "name": "stdout",
     "output_type": "stream",
     "text": [
      "Times in which we usually update (do not pay attention to the date)\n",
      "TIME2\n",
      "2022-04-07 08:00:00      1\n",
      "2022-04-07 09:00:00      1\n",
      "2022-04-07 10:00:00      3\n",
      "2022-04-07 11:00:00     42\n",
      "2022-04-07 12:00:00     12\n",
      "2022-04-07 13:00:00     16\n",
      "2022-04-07 14:00:00    256\n",
      "2022-04-07 15:00:00     22\n",
      "2022-04-07 16:00:00      9\n",
      "2022-04-07 17:00:00      9\n",
      "2022-04-07 18:00:00      6\n",
      "2022-04-07 19:00:00     14\n",
      "2022-04-07 20:00:00      3\n",
      "2022-04-07 21:00:00      0\n",
      "2022-04-07 22:00:00      5\n",
      "2022-04-07 23:00:00      6\n",
      "Freq: H, dtype: int64\n"
     ]
    }
   ],
   "source": [
    "counts = pd.Series(index=df.TIME2, data=np.array(df.count)).resample('1H').count()\n",
    "print('Times in which we usually update (do not pay attention to the date)')\n",
    "print(counts[:1000])"
   ]
  },
  {
   "cell_type": "code",
   "execution_count": 57,
   "id": "dc4966e3",
   "metadata": {},
   "outputs": [
    {
     "name": "stdout",
     "output_type": "stream",
     "text": [
      "The minimun of views from an article was: 0 , while max: 144841\n"
     ]
    }
   ],
   "source": [
    "print('The minimun of views from an article was:', min(df['Views count']), ', while max:', max(df['Views count']))"
   ]
  },
  {
   "cell_type": "code",
   "execution_count": 73,
   "id": "93164c78",
   "metadata": {},
   "outputs": [
    {
     "name": "stdout",
     "output_type": "stream",
     "text": [
      "In bins of 500 views and from 2000 to max, we have: \n"
     ]
    },
    {
     "data": {
      "text/plain": [
       "(0, 500]          288\n",
       "(500, 1000]        39\n",
       "(2000, 144841]     35\n",
       "(1000, 1500]       15\n",
       "(1500, 2000]        8\n",
       "Name: Views count, dtype: int64"
      ]
     },
     "execution_count": 73,
     "metadata": {},
     "output_type": "execute_result"
    }
   ],
   "source": [
    "maxg=df['Views count'].max()\n",
    "print('In bins of 500 views and from 2000 to max, we have: ')\n",
    "width=100\n",
    "bins1=list(range(0,2000,500))\n",
    "bins= bins1 + [2000, maxg]\n",
    "pd.cut(df['Views count'],bins).value_counts()"
   ]
  },
  {
   "cell_type": "code",
   "execution_count": 84,
   "id": "986bf4b0",
   "metadata": {},
   "outputs": [
    {
     "data": {
      "text/plain": [
       "<AxesSubplot:title={'center':'Distribution of KBs into each service'}, ylabel='University Service'>"
      ]
     },
     "execution_count": 84,
     "metadata": {},
     "output_type": "execute_result"
    },
    {
     "data": {
      "image/png": "[encoded data removed]",
      "text/plain": [
       "<Figure size 720x720 with 1 Axes>"
      ]
     },
     "metadata": {},
     "output_type": "display_data"
    }
   ],
   "source": [
    "df['University Service'].value_counts().plot.pie(figsize=(10, 10), title='Distribution of KBs into each service')"
   ]
  },
  {
   "cell_type": "code",
   "execution_count": 85,
   "id": "84c8bbc9",
   "metadata": {},
   "outputs": [
    {
     "name": "stdout",
     "output_type": "stream",
     "text": [
      "196 of them start with KB, while the other 210 start with a number\n"
     ]
    }
   ],
   "source": [
    "print('196 of them start with KB, while the other 210 start with a number')"
   ]
  },
  {
   "cell_type": "code",
   "execution_count": 87,
   "id": "0c58e92f",
   "metadata": {},
   "outputs": [],
   "source": [
    "df['Keywords'] = df[\"Keywords\"].map(str)"
   ]
  },
  {
   "cell_type": "code",
   "execution_count": 91,
   "id": "c2f61d7f",
   "metadata": {},
   "outputs": [
    {
     "name": "stdout",
     "output_type": "stream",
     "text": [
      "Hundred most common words on keywords section on our KBs\n"
     ]
    },
    {
     "data": {
      "text/plain": [
       "[('email', 151),\n",
       " ('Google', 81),\n",
       " ('calendar', 65),\n",
       " ('e-mail', 61),\n",
       " ('NYU', 56),\n",
       " ('google', 53),\n",
       " ('drive', 39),\n",
       " ('access', 33),\n",
       " ('apps', 33),\n",
       " ('Chat', 30),\n",
       " ('hangouts', 28),\n",
       " ('docs', 27),\n",
       " ('error', 25),\n",
       " ('share', 24),\n",
       " ('mail', 23),\n",
       " ('Calendar', 22),\n",
       " ('outlook', 22),\n",
       " ('Chat,', 22),\n",
       " ('meeting', 22),\n",
       " ('sync', 21),\n",
       " ('Drive', 20),\n",
       " ('Groups', 20),\n",
       " ('gmail', 20),\n",
       " ('group', 20),\n",
       " ('room', 20),\n",
       " ('message', 19),\n",
       " ('address', 19),\n",
       " ('chat', 19),\n",
       " ('event', 18),\n",
       " ('Hangouts', 17),\n",
       " ('setup', 17),\n",
       " ('Email', 16),\n",
       " ('mobile', 16),\n",
       " ('groups', 16),\n",
       " ('settings', 16),\n",
       " ('calendaring', 16),\n",
       " ('configure', 15),\n",
       " ('nan', 14),\n",
       " ('file', 14),\n",
       " ('spam', 14),\n",
       " ('alias', 14),\n",
       " ('create', 14),\n",
       " ('meet', 13),\n",
       " ('contacts', 13),\n",
       " ('Docs', 13),\n",
       " ('chat,', 12),\n",
       " ('send', 12),\n",
       " ('video', 12),\n",
       " ('sharing', 12),\n",
       " ('document', 12),\n",
       " ('missing', 11),\n",
       " ('(Google)', 11),\n",
       " ('(Limited', 11),\n",
       " ('Release),', 11),\n",
       " ('(Google),', 11),\n",
       " ('Hangouts,', 11),\n",
       " ('security', 11),\n",
       " ('invitation', 11),\n",
       " ('password', 11),\n",
       " ('invite', 11),\n",
       " ('resource', 11),\n",
       " ('google,', 11),\n",
       " ('thunderbird', 10),\n",
       " ('configuration', 10),\n",
       " ('troubleshooting', 10),\n",
       " ('account', 10),\n",
       " ('web', 9),\n",
       " ('Apps', 9),\n",
       " ('list', 9),\n",
       " ('login', 9),\n",
       " ('email,', 9),\n",
       " ('nyumail', 9),\n",
       " ('time', 8),\n",
       " ('smtp', 8),\n",
       " ('new', 8),\n",
       " ('conference', 8),\n",
       " ('how', 8),\n",
       " ('permissions', 8),\n",
       " ('failure', 8),\n",
       " ('student', 8),\n",
       " ('inbox', 8),\n",
       " ('client', 8),\n",
       " ('apple', 7),\n",
       " ('groups,', 7),\n",
       " ('messages', 7),\n",
       " ('calls', 7),\n",
       " ('files', 7),\n",
       " ('android', 7),\n",
       " ('shared', 7),\n",
       " ('owner', 7),\n",
       " ('limit', 7),\n",
       " ('change', 7),\n",
       " ('to,', 7),\n",
       " ('storage', 6),\n",
       " ('Gmail', 6),\n",
       " ('imap', 6),\n",
       " ('instant', 6),\n",
       " ('team', 6),\n",
       " ('sites', 6),\n",
       " ('phone', 6)]"
      ]
     },
     "execution_count": 91,
     "metadata": {},
     "output_type": "execute_result"
    }
   ],
   "source": [
    "from collections import Counter\n",
    "print('Hundred most common words on keywords section on our KBs')\n",
    "Counter(\" \".join(df[\"Keywords\"]).split()).most_common(100)"
   ]
  },
  {
   "cell_type": "code",
   "execution_count": null,
   "id": "48f156ba",
   "metadata": {},
   "outputs": [],
   "source": []
  }
 ],
 "metadata": {
  "kernelspec": {
   "display_name": "Python 3 (ipykernel)",
   "language": "python",
   "name": "python3"
  },
  "language_info": {
   "codemirror_mode": {
    "name": "ipython",
    "version": 3
   },
   "file_extension": ".py",
   "mimetype": "text/x-python",
   "name": "python",
   "nbconvert_exporter": "python",
   "pygments_lexer": "ipython3",
   "version": "3.9.7"
  }
 },
 "nbformat": 4,
 "nbformat_minor": 5
}
