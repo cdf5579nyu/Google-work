{
  "nbformat": 4,
  "nbformat_minor": 0,
  "metadata": {
    "colab": {
      "provenance": []
    },
    "kernelspec": {
      "name": "python3",
      "display_name": "Python 3"
    },
    "language_info": {
      "name": "python"
    },
    "accelerator": "GPU",
    "gpuClass": "standard"
  },
  "cells": [
    {
      "cell_type": "code",
      "execution_count": null,
      "metadata": {
        "id": "7nvxzZqMcoIf"
      },
      "outputs": [],
      "source": [
        "#@markdown Load modules\n",
        "import numpy as np\n",
        "from IPython.display import display, Markdown, Latex\n",
        "import pandas as pd\n",
        "import matplotlib.pyplot as plt \n",
        "import seaborn as sns\n",
        "\n",
        "from sklearn.preprocessing import MinMaxScaler\n",
        "from sklearn.model_selection import train_test_split\n",
        "from sklearn.ensemble import RandomForestClassifier\n",
        "from sklearn.metrics import accuracy_score, precision_score, recall_score"
      ]
    },
    {
      "cell_type": "code",
      "source": [
        "from google.colab import drive\n",
        "drive.mount('/content/drive')"
      ],
      "metadata": {
        "colab": {
          "base_uri": "https://localhost:8080/"
        },
        "id": "H_8abqQEdNhP",
        "outputId": "2a57dfd7-ddd6-411c-f3ef-2f1757ddd9f0"
      },
      "execution_count": null,
      "outputs": [
        {
          "output_type": "stream",
          "name": "stdout",
          "text": [
            "Mounted at /content/drive\n"
          ]
        }
      ]
    },
    {
      "cell_type": "markdown",
      "source": [
        "##Checking for Size\n"
      ],
      "metadata": {
        "id": "kFRwWtqQFQhY"
      }
    },
    {
      "cell_type": "code",
      "source": [
        "import os\n",
        "\n",
        "print(os.path.getsize(\"/content/drive/MyDrive/Large document for testing/train.csv\"))"
      ],
      "metadata": {
        "colab": {
          "base_uri": "https://localhost:8080/"
        },
        "id": "PsAjGnEuhkX3",
        "outputId": "27260263-2fa7-45ec-c979-7da78b138748"
      },
      "execution_count": null,
      "outputs": [
        {
          "output_type": "stream",
          "name": "stdout",
          "text": [
            "5846760913\n"
          ]
        }
      ]
    },
    {
      "cell_type": "code",
      "source": [
        "# get file size in python\n",
        "import os\n",
        "\n",
        "file_name = (\"/content/drive/MyDrive/Large document for testing/train.csv\")\n",
        "\n",
        "file_stats = os.stat(file_name)\n",
        "\n",
        "print(file_stats)\n",
        "print(f'File Size in Bytes is {file_stats.st_size}')\n",
        "print(f'File Size in MegaBytes is {file_stats.st_size / (1024 * 1024)}')"
      ],
      "metadata": {
        "colab": {
          "base_uri": "https://localhost:8080/"
        },
        "id": "B13Autesn3gh",
        "outputId": "ad56cb51-1fac-4270-e2e4-380dc0d0d458"
      },
      "execution_count": null,
      "outputs": [
        {
          "output_type": "stream",
          "name": "stdout",
          "text": [
            "os.stat_result(st_mode=33152, st_ino=258, st_dev=42, st_nlink=1, st_uid=0, st_gid=0, st_size=5846760913, st_atime=1679494759, st_mtime=1602711906, st_ctime=1602711906)\n",
            "File Size in Bytes is 5846760913\n",
            "File Size in MegaBytes is 5575.905716896057\n"
          ]
        }
      ]
    },
    {
      "cell_type": "code",
      "source": [
        "from pathlib import Path\n",
        "  \n",
        "sz = Path(\"/content/drive/MyDrive/Large document for testing/train.csv\").stat().st_size\n",
        "  \n",
        "print(sz)"
      ],
      "metadata": {
        "colab": {
          "base_uri": "https://localhost:8080/"
        },
        "id": "EBjP-JnJc6-1",
        "outputId": "488c6d75-af7e-4d45-d65d-0c10707506b9"
      },
      "execution_count": null,
      "outputs": [
        {
          "output_type": "stream",
          "name": "stdout",
          "text": [
            "5846760913\n"
          ]
        }
      ]
    },
    {
      "cell_type": "markdown",
      "source": [
        "## Yep, right size. Now lets do the split using a package\n"
      ],
      "metadata": {
        "id": "BmjtN03tFTsY"
      }
    },
    {
      "cell_type": "code",
      "source": [
        "!pip install filesplit"
      ],
      "metadata": {
        "colab": {
          "base_uri": "https://localhost:8080/"
        },
        "id": "sbVWQRML6s3V",
        "outputId": "d6d6f5b4-75a6-4543-c569-883055f1d113"
      },
      "execution_count": null,
      "outputs": [
        {
          "output_type": "stream",
          "name": "stdout",
          "text": [
            "Looking in indexes: https://pypi.org/simple, https://us-python.pkg.dev/colab-wheels/public/simple/\n",
            "Collecting filesplit\n",
            "  Downloading filesplit-4.0.1-py3-none-any.whl (9.2 kB)\n",
            "Installing collected packages: filesplit\n",
            "Successfully installed filesplit-4.0.1\n"
          ]
        }
      ]
    },
    {
      "cell_type": "code",
      "source": [
        "from filesplit.split import Split\n",
        "\n",
        "split = Split(inputfile =  \"/content/drive/MyDrive/Large document for testing/train.csv\", outputdir =  \"/content/drive/MyDrive/Large document for testing\")"
      ],
      "metadata": {
        "id": "PWEz46546s6z"
      },
      "execution_count": null,
      "outputs": []
    },
    {
      "cell_type": "code",
      "source": [
        "split.bysize(size =  1e9) #break it into 6, of size 953.7 MB each (except the last one), deposited in the shared folder as train1 and train2, train3, and so on"
      ],
      "metadata": {
        "id": "VNMX2__z6s_G"
      },
      "execution_count": null,
      "outputs": []
    },
    {
      "cell_type": "markdown",
      "source": [
        "## Now, we want to randomize the dataset order before splitting in order to do some sort of boot-straping "
      ],
      "metadata": {
        "id": "CFYw2XA4FqUK"
      }
    },
    {
      "cell_type": "code",
      "source": [
        "#load the splits, and shuffle the rows if needed\n",
        "\n",
        "#its better since the splits are smaller, and loadable in a pd dataframe\n",
        "import pandas as pd\n",
        "\n",
        "df = pd.read_csv('/content/drive/MyDrive/Large document for testing/train_1.csv')  \n",
        "\n",
        "df = df.sample(frac = 1)\n",
        "\n",
        "df"
      ],
      "metadata": {
        "colab": {
          "base_uri": "https://localhost:8080/",
          "height": 424
        },
        "id": "hb3SRHrY6tFs",
        "outputId": "34caa92c-085f-4986-c6a9-e72b191f6299"
      },
      "execution_count": null,
      "outputs": [
        {
          "output_type": "execute_result",
          "data": {
            "text/plain": [
              "            row_id    timestamp    user_id  content_id  content_type_id  \\\n",
              "9339392    9339392  22816267378  203206918      8829.0              0.0   \n",
              "16231612  16231612        19536  348333022      5209.0              0.0   \n",
              "4543707    4543707  17088192048   96303741       454.0              0.0   \n",
              "16111952  16111952  12836049462  345740344      5323.0              0.0   \n",
              "11205916  11205916    177637487  243357704      6922.0              0.0   \n",
              "...            ...          ...        ...         ...              ...   \n",
              "6734315    6734315   2849893798  146798840      4966.0              0.0   \n",
              "11442517  11442517    311842136  248281326     10074.0              0.0   \n",
              "4849327    4849327   4211530909  103804041      2582.0              0.0   \n",
              "3094054    3094054  12111290495   66756934       960.0              0.0   \n",
              "6437157    6437157   1734545930  139617632      3306.0              0.0   \n",
              "\n",
              "          task_container_id  user_answer  answered_correctly  \\\n",
              "9339392               595.0          1.0                 1.0   \n",
              "16231612                1.0          2.0                 1.0   \n",
              "4543707               504.0          3.0                 1.0   \n",
              "16111952              377.0          3.0                 1.0   \n",
              "11205916              160.0          0.0                 1.0   \n",
              "...                     ...          ...                 ...   \n",
              "6734315               151.0          2.0                 1.0   \n",
              "11442517              101.0          3.0                 1.0   \n",
              "4849327               237.0          2.0                 1.0   \n",
              "3094054              5222.0          1.0                 1.0   \n",
              "6437157               882.0          2.0                 1.0   \n",
              "\n",
              "          prior_question_elapsed_time prior_question_had_explanation  \n",
              "9339392                       17000.0                           True  \n",
              "16231612                      36000.0                          False  \n",
              "4543707                       13000.0                           True  \n",
              "16111952                      14000.0                           True  \n",
              "11205916                      27750.0                           True  \n",
              "...                               ...                            ...  \n",
              "6734315                       11000.0                           True  \n",
              "11442517                      17000.0                           True  \n",
              "4849327                       29333.0                           True  \n",
              "3094054                       16000.0                           True  \n",
              "6437157                       22333.0                           True  \n",
              "\n",
              "[17719591 rows x 10 columns]"
            ],
            "text/html": [
              "\n",
              "  <div id=\"df-19e44b48-88f1-4e5d-bbe4-a755317062b4\">\n",
              "    <div class=\"colab-df-container\">\n",
              "      <div>\n",
              "<style scoped>\n",
              "    .dataframe tbody tr th:only-of-type {\n",
              "        vertical-align: middle;\n",
              "    }\n",
              "\n",
              "    .dataframe tbody tr th {\n",
              "        vertical-align: top;\n",
              "    }\n",
              "\n",
              "    .dataframe thead th {\n",
              "        text-align: right;\n",
              "    }\n",
              "</style>\n",
              "<table border=\"1\" class=\"dataframe\">\n",
              "  <thead>\n",
              "    <tr style=\"text-align: right;\">\n",
              "      <th></th>\n",
              "      <th>row_id</th>\n",
              "      <th>timestamp</th>\n",
              "      <th>user_id</th>\n",
              "      <th>content_id</th>\n",
              "      <th>content_type_id</th>\n",
              "      <th>task_container_id</th>\n",
              "      <th>user_answer</th>\n",
              "      <th>answered_correctly</th>\n",
              "      <th>prior_question_elapsed_time</th>\n",
              "      <th>prior_question_had_explanation</th>\n",
              "    </tr>\n",
              "  </thead>\n",
              "  <tbody>\n",
              "    <tr>\n",
              "      <th>9339392</th>\n",
              "      <td>9339392</td>\n",
              "      <td>22816267378</td>\n",
              "      <td>203206918</td>\n",
              "      <td>8829.0</td>\n",
              "      <td>0.0</td>\n",
              "      <td>595.0</td>\n",
              "      <td>1.0</td>\n",
              "      <td>1.0</td>\n",
              "      <td>17000.0</td>\n",
              "      <td>True</td>\n",
              "    </tr>\n",
              "    <tr>\n",
              "      <th>16231612</th>\n",
              "      <td>16231612</td>\n",
              "      <td>19536</td>\n",
              "      <td>348333022</td>\n",
              "      <td>5209.0</td>\n",
              "      <td>0.0</td>\n",
              "      <td>1.0</td>\n",
              "      <td>2.0</td>\n",
              "      <td>1.0</td>\n",
              "      <td>36000.0</td>\n",
              "      <td>False</td>\n",
              "    </tr>\n",
              "    <tr>\n",
              "      <th>4543707</th>\n",
              "      <td>4543707</td>\n",
              "      <td>17088192048</td>\n",
              "      <td>96303741</td>\n",
              "      <td>454.0</td>\n",
              "      <td>0.0</td>\n",
              "      <td>504.0</td>\n",
              "      <td>3.0</td>\n",
              "      <td>1.0</td>\n",
              "      <td>13000.0</td>\n",
              "      <td>True</td>\n",
              "    </tr>\n",
              "    <tr>\n",
              "      <th>16111952</th>\n",
              "      <td>16111952</td>\n",
              "      <td>12836049462</td>\n",
              "      <td>345740344</td>\n",
              "      <td>5323.0</td>\n",
              "      <td>0.0</td>\n",
              "      <td>377.0</td>\n",
              "      <td>3.0</td>\n",
              "      <td>1.0</td>\n",
              "      <td>14000.0</td>\n",
              "      <td>True</td>\n",
              "    </tr>\n",
              "    <tr>\n",
              "      <th>11205916</th>\n",
              "      <td>11205916</td>\n",
              "      <td>177637487</td>\n",
              "      <td>243357704</td>\n",
              "      <td>6922.0</td>\n",
              "      <td>0.0</td>\n",
              "      <td>160.0</td>\n",
              "      <td>0.0</td>\n",
              "      <td>1.0</td>\n",
              "      <td>27750.0</td>\n",
              "      <td>True</td>\n",
              "    </tr>\n",
              "    <tr>\n",
              "      <th>...</th>\n",
              "      <td>...</td>\n",
              "      <td>...</td>\n",
              "      <td>...</td>\n",
              "      <td>...</td>\n",
              "      <td>...</td>\n",
              "      <td>...</td>\n",
              "      <td>...</td>\n",
              "      <td>...</td>\n",
              "      <td>...</td>\n",
              "      <td>...</td>\n",
              "    </tr>\n",
              "    <tr>\n",
              "      <th>6734315</th>\n",
              "      <td>6734315</td>\n",
              "      <td>2849893798</td>\n",
              "      <td>146798840</td>\n",
              "      <td>4966.0</td>\n",
              "      <td>0.0</td>\n",
              "      <td>151.0</td>\n",
              "      <td>2.0</td>\n",
              "      <td>1.0</td>\n",
              "      <td>11000.0</td>\n",
              "      <td>True</td>\n",
              "    </tr>\n",
              "    <tr>\n",
              "      <th>11442517</th>\n",
              "      <td>11442517</td>\n",
              "      <td>311842136</td>\n",
              "      <td>248281326</td>\n",
              "      <td>10074.0</td>\n",
              "      <td>0.0</td>\n",
              "      <td>101.0</td>\n",
              "      <td>3.0</td>\n",
              "      <td>1.0</td>\n",
              "      <td>17000.0</td>\n",
              "      <td>True</td>\n",
              "    </tr>\n",
              "    <tr>\n",
              "      <th>4849327</th>\n",
              "      <td>4849327</td>\n",
              "      <td>4211530909</td>\n",
              "      <td>103804041</td>\n",
              "      <td>2582.0</td>\n",
              "      <td>0.0</td>\n",
              "      <td>237.0</td>\n",
              "      <td>2.0</td>\n",
              "      <td>1.0</td>\n",
              "      <td>29333.0</td>\n",
              "      <td>True</td>\n",
              "    </tr>\n",
              "    <tr>\n",
              "      <th>3094054</th>\n",
              "      <td>3094054</td>\n",
              "      <td>12111290495</td>\n",
              "      <td>66756934</td>\n",
              "      <td>960.0</td>\n",
              "      <td>0.0</td>\n",
              "      <td>5222.0</td>\n",
              "      <td>1.0</td>\n",
              "      <td>1.0</td>\n",
              "      <td>16000.0</td>\n",
              "      <td>True</td>\n",
              "    </tr>\n",
              "    <tr>\n",
              "      <th>6437157</th>\n",
              "      <td>6437157</td>\n",
              "      <td>1734545930</td>\n",
              "      <td>139617632</td>\n",
              "      <td>3306.0</td>\n",
              "      <td>0.0</td>\n",
              "      <td>882.0</td>\n",
              "      <td>2.0</td>\n",
              "      <td>1.0</td>\n",
              "      <td>22333.0</td>\n",
              "      <td>True</td>\n",
              "    </tr>\n",
              "  </tbody>\n",
              "</table>\n",
              "<p>17719591 rows × 10 columns</p>\n",
              "</div>\n",
              "      <button class=\"colab-df-convert\" onclick=\"convertToInteractive('df-19e44b48-88f1-4e5d-bbe4-a755317062b4')\"\n",
              "              title=\"Convert this dataframe to an interactive table.\"\n",
              "              style=\"display:none;\">\n",
              "        \n",
              "  <svg xmlns=\"http://www.w3.org/2000/svg\" height=\"24px\"viewBox=\"0 0 24 24\"\n",
              "       width=\"24px\">\n",
              "    <path d=\"M0 0h24v24H0V0z\" fill=\"none\"/>\n",
              "    <path d=\"M18.56 5.44l.94 2.06.94-2.06 2.06-.94-2.06-.94-.94-2.06-.94 2.06-2.06.94zm-11 1L8.5 8.5l.94-2.06 2.06-.94-2.06-.94L8.5 2.5l-.94 2.06-2.06.94zm10 10l.94 2.06.94-2.06 2.06-.94-2.06-.94-.94-2.06-.94 2.06-2.06.94z\"/><path d=\"M17.41 7.96l-1.37-1.37c-.4-.4-.92-.59-1.43-.59-.52 0-1.04.2-1.43.59L10.3 9.45l-7.72 7.72c-.78.78-.78 2.05 0 2.83L4 21.41c.39.39.9.59 1.41.59.51 0 1.02-.2 1.41-.59l7.78-7.78 2.81-2.81c.8-.78.8-2.07 0-2.86zM5.41 20L4 18.59l7.72-7.72 1.47 1.35L5.41 20z\"/>\n",
              "  </svg>\n",
              "      </button>\n",
              "      \n",
              "  <style>\n",
              "    .colab-df-container {\n",
              "      display:flex;\n",
              "      flex-wrap:wrap;\n",
              "      gap: 12px;\n",
              "    }\n",
              "\n",
              "    .colab-df-convert {\n",
              "      background-color: #E8F0FE;\n",
              "      border: none;\n",
              "      border-radius: 50%;\n",
              "      cursor: pointer;\n",
              "      display: none;\n",
              "      fill: #1967D2;\n",
              "      height: 32px;\n",
              "      padding: 0 0 0 0;\n",
              "      width: 32px;\n",
              "    }\n",
              "\n",
              "    .colab-df-convert:hover {\n",
              "      background-color: #E2EBFA;\n",
              "      box-shadow: 0px 1px 2px rgba(60, 64, 67, 0.3), 0px 1px 3px 1px rgba(60, 64, 67, 0.15);\n",
              "      fill: #174EA6;\n",
              "    }\n",
              "\n",
              "    [theme=dark] .colab-df-convert {\n",
              "      background-color: #3B4455;\n",
              "      fill: #D2E3FC;\n",
              "    }\n",
              "\n",
              "    [theme=dark] .colab-df-convert:hover {\n",
              "      background-color: #434B5C;\n",
              "      box-shadow: 0px 1px 3px 1px rgba(0, 0, 0, 0.15);\n",
              "      filter: drop-shadow(0px 1px 2px rgba(0, 0, 0, 0.3));\n",
              "      fill: #FFFFFF;\n",
              "    }\n",
              "  </style>\n",
              "\n",
              "      <script>\n",
              "        const buttonEl =\n",
              "          document.querySelector('#df-19e44b48-88f1-4e5d-bbe4-a755317062b4 button.colab-df-convert');\n",
              "        buttonEl.style.display =\n",
              "          google.colab.kernel.accessAllowed ? 'block' : 'none';\n",
              "\n",
              "        async function convertToInteractive(key) {\n",
              "          const element = document.querySelector('#df-19e44b48-88f1-4e5d-bbe4-a755317062b4');\n",
              "          const dataTable =\n",
              "            await google.colab.kernel.invokeFunction('convertToInteractive',\n",
              "                                                     [key], {});\n",
              "          if (!dataTable) return;\n",
              "\n",
              "          const docLinkHtml = 'Like what you see? Visit the ' +\n",
              "            '<a target=\"_blank\" href=https://colab.research.google.com/notebooks/data_table.ipynb>data table notebook</a>'\n",
              "            + ' to learn more about interactive tables.';\n",
              "          element.innerHTML = '';\n",
              "          dataTable['output_type'] = 'display_data';\n",
              "          await google.colab.output.renderOutput(dataTable, element);\n",
              "          const docLink = document.createElement('div');\n",
              "          docLink.innerHTML = docLinkHtml;\n",
              "          element.appendChild(docLink);\n",
              "        }\n",
              "      </script>\n",
              "    </div>\n",
              "  </div>\n",
              "  "
            ]
          },
          "metadata": {},
          "execution_count": 19
        }
      ]
    },
    {
      "cell_type": "code",
      "source": [
        "#now lets save it as train_1_shuffled\n",
        "\n",
        "filepath = Path('/content/drive/MyDrive/Large document for testing/train_1_shuffled.csv')  \n",
        "filepath.parent.mkdir(parents=True, exist_ok=True)  \n",
        "df.to_csv(filepath) \n",
        "\n",
        "#didn't do it haha, but twitching it should do the randomization\n",
        "\n",
        "#we can create a modifiable loop to do this randomization, which will multiply by two our output (the original ones and the shuffle versions of each)"
      ],
      "metadata": {
        "id": "9mUvEs-5c7Nv"
      },
      "execution_count": null,
      "outputs": []
    },
    {
      "cell_type": "code",
      "source": [],
      "metadata": {
        "id": "FOXZ3cr3c7U6"
      },
      "execution_count": null,
      "outputs": []
    },
    {
      "cell_type": "code",
      "source": [],
      "metadata": {
        "id": "gEy6U1iwc7YU"
      },
      "execution_count": null,
      "outputs": []
    },
    {
      "cell_type": "code",
      "source": [],
      "metadata": {
        "id": "RjPwsj--c7br"
      },
      "execution_count": null,
      "outputs": []
    },
    {
      "cell_type": "code",
      "source": [],
      "metadata": {
        "id": "UFGr-6r-c7i4"
      },
      "execution_count": null,
      "outputs": []
    },
    {
      "cell_type": "code",
      "source": [],
      "metadata": {
        "id": "ON-t3huoc7l5"
      },
      "execution_count": null,
      "outputs": []
    },
    {
      "cell_type": "code",
      "source": [],
      "metadata": {
        "id": "aT9JwkEVc7pO"
      },
      "execution_count": null,
      "outputs": []
    }
  ]
}